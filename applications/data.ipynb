{
 "cells": [
  {
   "cell_type": "markdown",
   "metadata": {},
   "source": [
    "# Exemple basique utilisation geoparquet\n",
    "\n",
    "## 1. La base dvf"
   ]
  },
  {
   "cell_type": "code",
   "execution_count": null,
   "metadata": {},
   "outputs": [],
   "source": [
    "import subprocess\n",
    "\n",
    "subprocess.call(\"mc cp s3/projet-formation/nouvelles-sources/data/geoparquet/dvf.parquet dvf.parquet\", shell=True)\n",
    "subprocess.call(\"mc cp s3/projet-formation/nouvelles-sources/data/geoparquet/carreaux.parquet carreaux.parquet\", shell=True)"
   ]
  },
  {
   "cell_type": "code",
   "execution_count": 2,
   "metadata": {},
   "outputs": [],
   "source": [
    "from cartiflette import carti_download\n",
    "\n",
    "# 1. Fonds communaux\n",
    "contours_villes_arrt = carti_download(\n",
    "    values = [\"75\", \"92\", \"93\", \"94\"],\n",
    "    crs = 4326,\n",
    "    borders=\"COMMUNE_ARRONDISSEMENT\",\n",
    "    filter_by=\"DEPARTEMENT\",\n",
    "    source=\"EXPRESS-COG-CARTO-TERRITOIRE\",\n",
    "    year=2022)\n",
    "\n",
    "# 2. Départements \n",
    "departements = contours_villes_arrt.dissolve(\"INSEE_DEP\").reset_index()\n",
    "#buffer_75 = departements.loc[departements[\"INSEE_DEP\"] == \"75\"].to_crs(2154).buffer(distance = 2000).plot()"
   ]
  },
  {
   "cell_type": "markdown",
   "metadata": {},
   "source": [
    "## Exploitation"
   ]
  },
  {
   "cell_type": "code",
   "execution_count": null,
   "metadata": {},
   "outputs": [],
   "source": [
    "import duckdb\n",
    "duckdb.execute(\"INSTALL spatial;\")\n",
    "duckdb.execute(\"LOAD spatial;\")"
   ]
  },
  {
   "cell_type": "code",
   "execution_count": 35,
   "metadata": {},
   "outputs": [],
   "source": [
    "reference_lon = 2.35  # Replace with your reference longitude\n",
    "reference_lat = 48.853 # Replace with your reference latitude\n",
    "\n",
    "\n",
    "carreaux_duckdb = duckdb.sql(f\"\"\"\n",
    "FROM read_parquet('carreaux_geoparquet.parquet')\n",
    "SELECT\n",
    "    *, ST_AsText(geometry) AS geom_text\n",
    "WHERE st_distance(\n",
    "        st_centroid(geometry),\n",
    "        ST_Transform(st_point({reference_lat}, {reference_lon}), 'EPSG:4326', 'EPSG:2154')\n",
    "    ) / 1000 < 2\n",
    "\"\"\")"
   ]
  },
  {
   "cell_type": "code",
   "execution_count": 36,
   "metadata": {},
   "outputs": [],
   "source": [
    "carreaux = carreaux_duckdb.to_df()\n",
    "carreaux = gpd.GeoDataFrame(carreaux)\n",
    "carreaux = carreaux.drop(\"geometry\", axis = \"columns\")\n",
    "carreaux['geometry'] = gpd.GeoSeries.from_wkt(carreaux['geom_text'])\n",
    "carreaux = carreaux.set_geometry('geometry', crs=2154).drop(\"geom_text\", axis = \"columns\")"
   ]
  },
  {
   "cell_type": "code",
   "execution_count": 47,
   "metadata": {},
   "outputs": [],
   "source": [
    "carreaux['prop_men_pauv'] = 100*carreaux['men_pauv']/carreaux['men']"
   ]
  },
  {
   "cell_type": "code",
   "execution_count": null,
   "metadata": {},
   "outputs": [],
   "source": [
    "import folium\n",
    "import branca.colormap as cm\n",
    "\n",
    "carreaux = carreaux.to_crs(4326)\n",
    "centroid = carreaux.geometry.unary_union.centroid\n",
    "map_center = [centroid.y, centroid.x]\n",
    "\n",
    "# Create a linear colormap\n",
    "colormap = cm.LinearColormap(\n",
    "    colors=['green', 'yellow', 'red'],  # Color range\n",
    "    vmin=carreaux['prop_men_pauv'].min(),  # Minimum value of the variable\n",
    "    vmax=carreaux['prop_men_pauv'].max(),  # Maximum value of the variable\n",
    "    caption='Proportion ménages pauvres'  # Legend title\n",
    ")\n",
    "\n",
    "def style_function(feature):\n",
    "    proportion = feature['properties']['prop_men_pauv']\n",
    "    return {\n",
    "        'fillColor': colormap(proportion),\n",
    "        'color': 'black',         # Border color\n",
    "        'weight': 1,              # Border thickness\n",
    "        'fillOpacity': 0.7,       # Fill transparency\n",
    "    }\n",
    "\n",
    "m = folium.Map(location=map_center, zoom_start=14, tiles='cartodbpositron')\n",
    "\n",
    "# Add GeoJson layer to the map with tooltips\n",
    "folium.GeoJson(\n",
    "    carreaux,\n",
    "    name='carreaux Borders',\n",
    "    style_function=style_function,\n",
    "    tooltip=folium.GeoJsonTooltip(\n",
    "        fields=['idcar_200m', 'idcar_1km', 'idcar_nat', 'prop_men_pauv'],\n",
    "        aliases=['ID Car 200m:', 'ID Car 1km:', 'ID Car Nat:', 'Proportion ménages pauvres:'],\n",
    "        localize=True\n",
    "    )\n",
    ").add_to(m)\n",
    "\n",
    "# Add the colormap legend to the map\n",
    "colormap.add_to(m)\n",
    "\n",
    "# Optional: Add layer control if you have multiple layers\n",
    "folium.LayerControl().add_to(m)\n",
    "\n",
    "# Display the map\n",
    "m"
   ]
  },
  {
   "cell_type": "code",
   "execution_count": null,
   "metadata": {},
   "outputs": [],
   "source": [
    "duckdb.sql(\"SELECT * FROM read_parquet('dvf_geoparquet.parquet') LIMIT 2\")"
   ]
  },
  {
   "cell_type": "code",
   "execution_count": null,
   "metadata": {},
   "outputs": [],
   "source": []
  },
  {
   "cell_type": "code",
   "execution_count": null,
   "metadata": {},
   "outputs": [],
   "source": []
  }
 ],
 "metadata": {
  "kernelspec": {
   "display_name": "base",
   "language": "python",
   "name": "python3"
  },
  "language_info": {
   "codemirror_mode": {
    "name": "ipython",
    "version": 3
   },
   "file_extension": ".py",
   "mimetype": "text/x-python",
   "name": "python",
   "nbconvert_exporter": "python",
   "pygments_lexer": "ipython3",
   "version": "3.12.7"
  }
 },
 "nbformat": 4,
 "nbformat_minor": 2
}
